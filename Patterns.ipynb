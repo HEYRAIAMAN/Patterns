{
 "cells": [
  {
   "cell_type": "markdown",
   "metadata": {},
   "source": [
    "Square Star Pattern\n",
    "\n",
    "           ****\n",
    "           ****\n",
    "           ****\n",
    "           ****\n"
   ]
  },
  {
   "cell_type": "code",
   "execution_count": 10,
   "metadata": {
    "scrolled": true
   },
   "outputs": [
    {
     "name": "stdout",
     "output_type": "stream",
     "text": [
      "****\n",
      "****\n",
      "****\n",
      "****\n"
     ]
    }
   ],
   "source": [
    "raw  = int(input(\"enter any number raw : \"))\n",
    "col  = int(input(\"enter any  number col : \"))\n",
    "for i in range (0, raw):\n",
    "    for j in range (0, col):\n",
    "        print(\"*\",end=\"\")\n",
    "    print()"
   ]
  },
  {
   "cell_type": "markdown",
   "metadata": {},
   "source": [
    "Hollow Square Star Pattern\n",
    "\n",
    "           ****\n",
    "           *  *\n",
    "           *  *\n",
    "           ****"
   ]
  },
  {
   "cell_type": "code",
   "execution_count": 5,
   "metadata": {},
   "outputs": [
    {
     "name": "stdout",
     "output_type": "stream",
     "text": [
      "****\n",
      "*  *\n",
      "*  *\n",
      "****\n"
     ]
    }
   ],
   "source": [
    "raw  = int(input(\"enter any number raw : \"))\n",
    "col  = int(input(\"enter any  number col : \"))\n",
    "for i in range(0, raw):\n",
    "    for j  in range(0,col):\n",
    "        if (i==0  or i == raw-1 or j==0 or j==col-1) :\n",
    "            print(\"*\",end=\"\")\n",
    "        else:\n",
    "            print(\" \",end=\"\")\n",
    "    print(\"\")"
   ]
  },
  {
   "cell_type": "markdown",
   "metadata": {},
   "source": [
    "Rhombus Star Pattern\n",
    "\n",
    "           ****\n",
    "            ****\n",
    "             ****\n",
    "              ****"
   ]
  },
  {
   "cell_type": "code",
   "execution_count": 6,
   "metadata": {},
   "outputs": [
    {
     "name": "stdout",
     "output_type": "stream",
     "text": [
      "****\n",
      " ****\n",
      "  ****\n",
      "   ****\n"
     ]
    }
   ],
   "source": [
    "raw  = int(input(\"enter any number raw : \"))\n",
    "col  = int(input(\"enter any  number col : \"))\n",
    "for i in range(0, raw):\n",
    "    for j  in range(1,1+i):\n",
    "        print(\" \", end=\"\")\n",
    "    for k in range(0, col):\n",
    "        print(\"*\",end=\"\")\n",
    "    print()\n",
    "        \n"
   ]
  },
  {
   "cell_type": "markdown",
   "metadata": {},
   "source": [
    "Rectangle Star Pattern\n",
    "\n",
    "           ******\n",
    "           ******\n",
    "           ******\n",
    "           ****** "
   ]
  },
  {
   "cell_type": "code",
   "execution_count": 13,
   "metadata": {},
   "outputs": [
    {
     "name": "stdout",
     "output_type": "stream",
     "text": [
      "******\n",
      "******\n",
      "******\n",
      "******\n"
     ]
    }
   ],
   "source": [
    "raw  = int(input(\"enter any number raw : \"))\n",
    "col  = int(input(\"enter any  number col : \"))\n",
    "for i in range(0, raw):\n",
    "    for j in range(0, col):\n",
    "        print(\"*\", end=\"\")\n",
    "    print()"
   ]
  },
  {
   "cell_type": "markdown",
   "metadata": {},
   "source": [
    "Hollow Rectangle Star Pattern\n",
    "\n",
    "           ******\n",
    "           *    *\n",
    "           *    *\n",
    "           ******"
   ]
  },
  {
   "cell_type": "code",
   "execution_count": 25,
   "metadata": {},
   "outputs": [
    {
     "name": "stdout",
     "output_type": "stream",
     "text": [
      "******\n",
      "*    *\n",
      "*    *\n",
      "******\n"
     ]
    }
   ],
   "source": [
    "raw  = int(input(\"enter any number raw : \"))\n",
    "col  = int(input(\"enter any  number col : \"))\n",
    "for i in range(0,raw):\n",
    "    for j in range(0, col):\n",
    "        if ( i == 0 or i == raw -1 or j == 0 or j == col-1):\n",
    "            print(\"*\", end=\"\")\n",
    "        else:\n",
    "            print(\" \", end= \"\")\n",
    "    print()\n",
    "\n"
   ]
  },
  {
   "cell_type": "markdown",
   "metadata": {},
   "source": [
    "Parallelogram Star Pattern\n",
    "\n",
    "           ******\n",
    "            ******\n",
    "             ******\n",
    "              ******"
   ]
  },
  {
   "cell_type": "code",
   "execution_count": 27,
   "metadata": {},
   "outputs": [
    {
     "name": "stdout",
     "output_type": "stream",
     "text": [
      "******\n",
      " ******\n",
      "  ******\n",
      "   ******\n"
     ]
    }
   ],
   "source": [
    "raw  = int(input(\"enter any number raw : \"))\n",
    "col  = int(input(\"enter any  number col : \"))\n",
    "for i in range(0,raw):\n",
    "    for j in range(1, i+1):\n",
    "        print(\" \",end=\"\")\n",
    "    for k in range(0,col):\n",
    "        print(\"*\", end= \"\")\n",
    "    print()"
   ]
  },
  {
   "cell_type": "markdown",
   "metadata": {},
   "source": [
    "Mirrored Rhombus Star Pattern\n",
    "  \n",
    "           ****\n",
    "          ****\n",
    "         ****\n",
    "        ****"
   ]
  },
  {
   "cell_type": "code",
   "execution_count": 6,
   "metadata": {},
   "outputs": [
    {
     "name": "stdout",
     "output_type": "stream",
     "text": [
      "   ****\n",
      "  ****\n",
      " ****\n",
      "****\n"
     ]
    }
   ],
   "source": [
    "raw  = int(input(\"enter any number raw : \"))\n",
    "col  = int(input(\"enter any  number col : \"))\n",
    "for i in range(0, raw):\n",
    "    for j in range(0, col-i-1):\n",
    "        print(\" \", end=\"\")\n",
    "    for k in range(0, col):\n",
    "        print(\"*\", end=\"\")\n",
    "    print()\n"
   ]
  },
  {
   "cell_type": "markdown",
   "metadata": {},
   "source": [
    "Triangle Star Pattern\n",
    " \n",
    "       *\n",
    "       **\n",
    "       ***\n",
    "       ****"
   ]
  },
  {
   "cell_type": "code",
   "execution_count": 8,
   "metadata": {},
   "outputs": [
    {
     "name": "stdout",
     "output_type": "stream",
     "text": [
      "*\n",
      "**\n",
      "***\n",
      "****\n"
     ]
    }
   ],
   "source": [
    "raw  = int(input(\"enter any number raw : \"))\n",
    "col  = int(input(\"enter any  number col : \"))\n",
    "for i in range(0, raw):\n",
    "    for j in range(0, i+1):\n",
    "        print(\"*\", end=\"\")\n",
    "    print()"
   ]
  },
  {
   "cell_type": "markdown",
   "metadata": {},
   "source": [
    "Pyramid Star Pattern\n",
    "\n",
    "              *\n",
    "             ***\n",
    "            *****\n",
    "           *******\n"
   ]
  },
  {
   "cell_type": "code",
   "execution_count": 18,
   "metadata": {},
   "outputs": [
    {
     "name": "stdout",
     "output_type": "stream",
     "text": [
      "   *\n",
      "  ***\n",
      " *****\n",
      "*******\n"
     ]
    }
   ],
   "source": [
    "raw  = int(input(\"enter any number raw : \"))\n",
    "col  = int(input(\"enter any  number col : \"))\n",
    "for i in range(0, raw):\n",
    "    for j in range(0, col-i-1):\n",
    "        print(\" \", end=\"\")\n",
    "    for j in range(0, i*2+1):\n",
    "        print(\"*\", end=\"\")\n",
    "    print()"
   ]
  },
  {
   "cell_type": "code",
   "execution_count": null,
   "metadata": {},
   "outputs": [],
   "source": []
  }
 ],
 "metadata": {
  "interpreter": {
   "hash": "ad2bdc8ecc057115af97d19610ffacc2b4e99fae6737bb82f5d7fb13d2f2c186"
  },
  "kernelspec": {
   "display_name": "Python 3.8.5 ('base')",
   "language": "python",
   "name": "python3"
  },
  "language_info": {
   "codemirror_mode": {
    "name": "ipython",
    "version": 3
   },
   "file_extension": ".py",
   "mimetype": "text/x-python",
   "name": "python",
   "nbconvert_exporter": "python",
   "pygments_lexer": "ipython3",
   "version": "3.8.5"
  }
 },
 "nbformat": 4,
 "nbformat_minor": 4
}
