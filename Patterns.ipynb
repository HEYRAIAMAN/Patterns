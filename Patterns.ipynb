{
 "cells": [
  {
   "cell_type": "markdown",
   "metadata": {},
   "source": [
    "Square Star Pattern\n",
    "           ****\n",
    "           ****\n",
    "           ****\n",
    "           ****\n"
   ]
  },
  {
   "cell_type": "code",
   "execution_count": 9,
   "metadata": {
    "scrolled": true
   },
   "outputs": [
    {
     "name": "stdout",
     "output_type": "stream",
     "text": [
      "enter any number raw4\n",
      "enter any  number col4\n",
      "****\n",
      "****\n",
      "****\n",
      "****\n"
     ]
    }
   ],
   "source": [
    "raw  = int(input(\"enter any number raw : \"))\n",
    "col  = int(input(\"enter any  number col : \"))\n",
    "for i in range (0, raw):\n",
    "    for j in range (0, col):\n",
    "        print(\"*\",end=\"\")\n",
    "    print()"
   ]
  },
  {
   "cell_type": "markdown",
   "metadata": {},
   "source": [
    "Hollow Square Star Pattern\n",
    "           ****\n",
    "           *  *\n",
    "           *  *\n",
    "           ****"
   ]
  },
  {
   "cell_type": "code",
   "execution_count": 22,
   "metadata": {},
   "outputs": [
    {
     "name": "stdout",
     "output_type": "stream",
     "text": [
      "enter any number raw : 4\n",
      "enter any  number col : 4\n",
      "****\n",
      "*  *\n",
      "*  *\n",
      "****\n"
     ]
    }
   ],
   "source": [
    "raw  = int(input(\"enter any number raw : \"))\n",
    "col  = int(input(\"enter any  number col : \"))\n",
    "for i in range(0, raw):\n",
    "    for j  in range(0,col):\n",
    "        if (i==0  or i == raw-1 or j==0 or j==col-1) :\n",
    "            print(\"*\",end=\"\")\n",
    "        else:\n",
    "            print(\" \",end=\"\")\n",
    "    print(\"\")"
   ]
  },
  {
   "cell_type": "markdown",
   "metadata": {},
   "source": [
    "Rhombus Star Pattern\n",
    "           ****\n",
    "            ****\n",
    "             ****\n",
    "              ****"
   ]
  },
  {
   "cell_type": "code",
   "execution_count": 27,
   "metadata": {},
   "outputs": [
    {
     "name": "stdout",
     "output_type": "stream",
     "text": [
      "enter any number raw : 4\n",
      "enter any  number col : 4\n",
      "****\n",
      " ****\n",
      "  ****\n",
      "   ****\n"
     ]
    }
   ],
   "source": [
    "raw  = int(input(\"enter any number raw : \"))\n",
    "col  = int(input(\"enter any  number col : \"))\n",
    "for i in range(0, raw):\n",
    "    for j  in range(1,1+i):\n",
    "        print(\" \", end=\"\")\n",
    "    for k in range(0, col):\n",
    "        print(\"*\",end=\"\")\n",
    "    print()\n",
    "        \n"
   ]
  },
  {
   "cell_type": "code",
   "execution_count": null,
   "metadata": {},
   "outputs": [],
   "source": []
  }
 ],
 "metadata": {
  "kernelspec": {
   "display_name": "Python 3",
   "language": "python",
   "name": "python3"
  },
  "language_info": {
   "codemirror_mode": {
    "name": "ipython",
    "version": 3
   },
   "file_extension": ".py",
   "mimetype": "text/x-python",
   "name": "python",
   "nbconvert_exporter": "python",
   "pygments_lexer": "ipython3",
   "version": "3.8.5"
  }
 },
 "nbformat": 4,
 "nbformat_minor": 4
}
